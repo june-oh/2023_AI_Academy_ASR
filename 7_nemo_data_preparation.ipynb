{
  "nbformat": 4,
  "nbformat_minor": 0,
  "metadata": {
    "colab": {
      "provenance": [],
      "authorship_tag": "ABX9TyN/hbNI+6deJ0lXPbM5TMQA",
      "include_colab_link": true
    },
    "kernelspec": {
      "name": "python3",
      "display_name": "Python 3"
    },
    "language_info": {
      "name": "python"
    },
    "accelerator": "GPU",
    "gpuClass": "standard"
  },
  "cells": [
    {
      "cell_type": "markdown",
      "metadata": {
        "id": "view-in-github",
        "colab_type": "text"
      },
      "source": [
        "<a href=\"https://colab.research.google.com/github/june-oh/2023_AI_Academy_ASR/blob/main/7_nemo_data_preparation.ipynb\" target=\"_parent\"><img src=\"https://colab.research.google.com/assets/colab-badge.svg\" alt=\"Open In Colab\"/></a>"
      ]
    },
    {
      "cell_type": "code",
      "execution_count": null,
      "metadata": {
        "id": "K993tUuB8kN3"
      },
      "outputs": [],
      "source": [
        "! pip install nemo_toolkit['all']"
      ]
    },
    {
      "cell_type": "code",
      "source": [
        "import nemo.collections.asr as nemo_asr"
      ],
      "metadata": {
        "id": "bDf6BdYFBEIh"
      },
      "execution_count": null,
      "outputs": []
    },
    {
      "cell_type": "code",
      "source": [
        "model = nemo_asr.models.ASRModel.from_pretrained('stt_en_conformer_ctc_large_ls')"
      ],
      "metadata": {
        "id": "62UPiJTcCZ51"
      },
      "execution_count": null,
      "outputs": []
    },
    {
      "cell_type": "code",
      "source": [
        "# token 추출"
      ],
      "metadata": {
        "id": "_zKLj9i4Clj3"
      },
      "execution_count": null,
      "outputs": []
    },
    {
      "cell_type": "code",
      "source": [
        "# 단어 추출"
      ],
      "metadata": {
        "id": "nBoBMf83DLGw"
      },
      "execution_count": null,
      "outputs": []
    },
    {
      "cell_type": "code",
      "source": [
        "# word와 subword의 관계를 정리한 lexicon"
      ],
      "metadata": {
        "id": "FGFrg-0iEGYI"
      },
      "execution_count": null,
      "outputs": []
    }
  ]
}