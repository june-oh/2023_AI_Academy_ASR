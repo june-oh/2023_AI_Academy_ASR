{
  "nbformat": 4,
  "nbformat_minor": 0,
  "metadata": {
    "colab": {
      "provenance": [],
      "authorship_tag": "ABX9TyPCK4nquBbZWM+Z2KBYwINO",
      "include_colab_link": true
    },
    "kernelspec": {
      "name": "python3",
      "display_name": "Python 3"
    },
    "language_info": {
      "name": "python"
    }
  },
  "cells": [
    {
      "cell_type": "markdown",
      "metadata": {
        "id": "view-in-github",
        "colab_type": "text"
      },
      "source": [
        "<a href=\"https://colab.research.google.com/github/june-oh/2023_AI_Academy_ASR/blob/main/7_WFST.ipynb\" target=\"_parent\"><img src=\"https://colab.research.google.com/assets/colab-badge.svg\" alt=\"Open In Colab\"/></a>"
      ]
    },
    {
      "cell_type": "markdown",
      "source": [
        "# WFST\n"
      ],
      "metadata": {
        "id": "i-1G2O77ryri"
      }
    },
    {
      "cell_type": "markdown",
      "source": [
        "## k2-fsa(k2)\n",
        "-  OpenFST를 개량한 python 기반의 WFST 패키지\n",
        "- End-to-end 모델과 WFST를 결합할 목적으로 제작됨\n",
        "- FSA, FST를 tensor 형태로 구현하여 GPU에서 WFST 연산을 가능하게 함\n",
        "- https://github.com/k2-fsa/k2 "
      ],
      "metadata": {
        "id": "jh3VsWjEtGIT"
      }
    },
    {
      "cell_type": "markdown",
      "source": [
        "## K2 설치 및 기본 환경 세팅\n",
        "\n",
        "### Prerequisities (pip 기준)\n",
        "- Python >= 3.6\n",
        "- CUDA >= 10.1\n",
        "- PyTorch == 1.7.1 (conda 설치의 경우 >=1.7.1)\n",
        "\n",
        "### PyPI (PIP)를 이용한 설치 방법 (권장, but colab에선 비권장)\n",
        "- pip install k2 (Prerequisities 자동으로 설치됨)\n",
        "\n",
        "### Colab에서 돌아가는 pip 설치 방법\n",
        "- ! pip install torch==1.7.1\n",
        "- ! pip install k2==1.17.dev20220710+cuda10.2.torch1.7.1 -f https://k2-fsa.org/nightly/\n",
        "\n",
        "### Source code (github)을 이용한 설치 방법\n",
        "- git clone https://github.com/k2-fsa/k2.git\n",
        "- cd k2\n",
        "- python3 setup.py install"
      ],
      "metadata": {
        "id": "3beVU6umukr1"
      }
    },
    {
      "cell_type": "code",
      "source": [
        "! pip install torch==1.7.1\n",
        "! pip install k2==1.17.dev20220710+cuda10.2.torch1.7.1 -f https://k2-fsa.org/nightly/"
      ],
      "metadata": {
        "id": "SMNOwNPgtAB0"
      },
      "execution_count": null,
      "outputs": []
    },
    {
      "cell_type": "code",
      "source": [
        "import k2, torch"
      ],
      "metadata": {
        "id": "nMtSg6NLvF9y"
      },
      "execution_count": null,
      "outputs": []
    },
    {
      "cell_type": "code",
      "source": [
        "import k2.version\n",
        "k2.version.version.main()"
      ],
      "metadata": {
        "id": "J8em-ovJvyqV"
      },
      "execution_count": null,
      "outputs": []
    },
    {
      "cell_type": "markdown",
      "source": [
        "## K2를 이용한 WFST 구현\n",
        "\n",
        "### Weighted Finite-state Acceptor(WFSA)\n",
        "- StartState \\t EndState \\t Symbol(index) \\t Weight\n",
        "- Symbol은 기본적으로 index로 표현/계산됨\n",
        "- 시각화할 일이 있을 때만 symbol을 표현\n",
        "- Symbol table 정의가 필요함\n",
        "- 일반적으로 k2.Fsa.from_str()를 사용하여 생성함\n",
        "- draw() or to_dot() methods를 이용하여 시각화"
      ],
      "metadata": {
        "id": "SPwrlO62wuAn"
      }
    },
    {
      "cell_type": "code",
      "source": [
        "s = '''\n",
        "0 1 1 1 \n",
        "0 1 3 5\n",
        "0 2 1 3\n",
        "0 2 2 4\n",
        "0 2 3 7\n",
        "0 2 4 8\n",
        "0 2 5 9\n",
        "1 3 6 9\n",
        "1 3 5 8\n",
        "2 3 6 12\n",
        "3 4 -1 0\n",
        "4\n",
        "'''"
      ],
      "metadata": {
        "id": "ooG3VksDweoT"
      },
      "execution_count": null,
      "outputs": []
    },
    {
      "cell_type": "code",
      "source": [
        "sym_str = '''\n",
        "  <eps> 0\n",
        " a 1\n",
        " b 2\n",
        " c 3\n",
        " d 4\n",
        " e 5\n",
        " f 6\n",
        "'''"
      ],
      "metadata": {
        "id": "bPGCPMUXwkS-"
      },
      "execution_count": null,
      "outputs": []
    },
    {
      "cell_type": "markdown",
      "source": [
        "###  Weighted Finite-state Transducer(WFST)\n",
        "- WFST: StartState \\t EndState \\t InputSymbol \\t OutputSymbol\\t Weight\n",
        "- 시각화된 표현은 arc당 InputSymbol:OutputSymbol/weight\n",
        "- CTC, lexicon, language model의 최적화된 표현을 위해 \n",
        "- k2.Fsa.from_str의 acceptor=False option을 이용하여 생성"
      ],
      "metadata": {
        "id": "ENS2sh8k1jJa"
      }
    },
    {
      "cell_type": "code",
      "source": [
        "s = '''\n",
        "0 1 1 1 1 \n",
        "0 1 3 3 5\n",
        "0 2 1 1 3\n",
        "0 2 2 2 4\n",
        "0 2 3 3 7\n",
        "0 2 4 4 8\n",
        "0 2 5 5 9\n",
        "1 3 6 6 9\n",
        "1 3 5 5 8\n",
        "2 3 6 6 12\n",
        "3 4 -1 -1 0\n",
        "4\n",
        "'''"
      ],
      "metadata": {
        "id": "SdOQ7jS7zK0M"
      },
      "execution_count": null,
      "outputs": []
    },
    {
      "cell_type": "code",
      "source": [
        "sym_str = '''\n",
        "  <eps> 0\n",
        " a 1\n",
        " b 2\n",
        " c 3\n",
        " d 4\n",
        " e 5\n",
        " f 6\n",
        "'''"
      ],
      "metadata": {
        "id": "hyWtxZNCz2w2"
      },
      "execution_count": null,
      "outputs": []
    },
    {
      "cell_type": "markdown",
      "source": [
        "## Composition & Determinization"
      ],
      "metadata": {
        "id": "KQbmlSgT2-Jl"
      }
    },
    {
      "cell_type": "code",
      "source": [
        "\n",
        "s = '''\n",
        "0 1 1 2 0.1\n",
        "1 2 2 2 0.3\n",
        "1 3 2 2 0.4\n",
        "2 3 1 2 0.5\n",
        "3 3 1 1 0.6\n",
        "3 4 -1 -1 0\n",
        "4\n",
        "'''"
      ],
      "metadata": {
        "id": "Rv5zFc0W3C1P"
      },
      "execution_count": null,
      "outputs": []
    },
    {
      "cell_type": "code",
      "source": [
        "sym_str = '''\n",
        "<eps> 0\n",
        " a 1\n",
        " b 2\n",
        " c 3\n",
        " d 4\n",
        " e 5\n",
        " f 6\n",
        "'''"
      ],
      "metadata": {
        "id": "LGDDjkOriE2_"
      },
      "execution_count": null,
      "outputs": []
    },
    {
      "cell_type": "code",
      "source": [
        "\n",
        "s = '''\n",
        "0 1 2 2 0.1\n",
        "1 1 2 1 0.2\n",
        "1 2 1 2 0.3\n",
        "2 3 2 1 0.5\n",
        "3 4 -1 -1 0.6\n",
        "4\n",
        "'''"
      ],
      "metadata": {
        "id": "Rzt0QdUS3Mv9"
      },
      "execution_count": null,
      "outputs": []
    },
    {
      "cell_type": "code",
      "source": [
        "sym_str = '''\n",
        "<eps> 0\n",
        " a 1\n",
        " b 2\n",
        " c 3\n",
        " d 4\n",
        " e 5\n",
        " f 6\n",
        "'''"
      ],
      "metadata": {
        "id": "l6khYF98iKBD"
      },
      "execution_count": null,
      "outputs": []
    }
  ]
}